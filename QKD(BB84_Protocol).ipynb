{
  "nbformat": 4,
  "nbformat_minor": 0,
  "metadata": {
    "colab": {
      "provenance": [],
      "authorship_tag": "ABX9TyPPen6DkJNDuEMpRvGtLTfZ",
      "include_colab_link": true
    },
    "kernelspec": {
      "name": "python3",
      "display_name": "Python 3"
    },
    "language_info": {
      "name": "python"
    }
  },
  "cells": [
    {
      "cell_type": "markdown",
      "metadata": {
        "id": "view-in-github",
        "colab_type": "text"
      },
      "source": [
        "<a href=\"https://colab.research.google.com/github/dkv1234/QKD-BB84/blob/main/QKD(BB84_Protocol).ipynb\" target=\"_parent\"><img src=\"https://colab.research.google.com/assets/colab-badge.svg\" alt=\"Open In Colab\"/></a>"
      ]
    },
    {
      "cell_type": "code",
      "execution_count": null,
      "metadata": {
        "colab": {
          "base_uri": "https://localhost:8080/"
        },
        "id": "mZPWogeLFgJZ",
        "outputId": "8138abce-808b-4292-cbc8-7e60319dd999"
      },
      "outputs": [
        {
          "output_type": "stream",
          "name": "stdout",
          "text": [
            "Collecting qiskit\n",
            "  Downloading qiskit-1.2.4-cp38-abi3-manylinux_2_17_x86_64.manylinux2014_x86_64.whl.metadata (12 kB)\n",
            "Collecting rustworkx>=0.15.0 (from qiskit)\n",
            "  Downloading rustworkx-0.15.1-cp38-abi3-manylinux_2_17_x86_64.manylinux2014_x86_64.whl.metadata (9.9 kB)\n",
            "Requirement already satisfied: numpy<3,>=1.17 in /usr/local/lib/python3.10/dist-packages (from qiskit) (1.26.4)\n",
            "Requirement already satisfied: scipy>=1.5 in /usr/local/lib/python3.10/dist-packages (from qiskit) (1.13.1)\n",
            "Requirement already satisfied: sympy>=1.3 in /usr/local/lib/python3.10/dist-packages (from qiskit) (1.13.1)\n",
            "Collecting dill>=0.3 (from qiskit)\n",
            "  Downloading dill-0.3.9-py3-none-any.whl.metadata (10 kB)\n",
            "Requirement already satisfied: python-dateutil>=2.8.0 in /usr/local/lib/python3.10/dist-packages (from qiskit) (2.8.2)\n",
            "Collecting stevedore>=3.0.0 (from qiskit)\n",
            "  Downloading stevedore-5.3.0-py3-none-any.whl.metadata (2.3 kB)\n",
            "Requirement already satisfied: typing-extensions in /usr/local/lib/python3.10/dist-packages (from qiskit) (4.12.2)\n",
            "Collecting symengine<0.14,>=0.11 (from qiskit)\n",
            "  Downloading symengine-0.13.0-cp310-cp310-manylinux_2_17_x86_64.manylinux2014_x86_64.whl.metadata (1.2 kB)\n",
            "Requirement already satisfied: six>=1.5 in /usr/local/lib/python3.10/dist-packages (from python-dateutil>=2.8.0->qiskit) (1.16.0)\n",
            "Collecting pbr>=2.0.0 (from stevedore>=3.0.0->qiskit)\n",
            "  Downloading pbr-6.1.0-py2.py3-none-any.whl.metadata (3.4 kB)\n",
            "Requirement already satisfied: mpmath<1.4,>=1.1.0 in /usr/local/lib/python3.10/dist-packages (from sympy>=1.3->qiskit) (1.3.0)\n",
            "Downloading qiskit-1.2.4-cp38-abi3-manylinux_2_17_x86_64.manylinux2014_x86_64.whl (4.8 MB)\n",
            "\u001b[2K   \u001b[90m━━━━━━━━━━━━━━━━━━━━━━━━━━━━━━━━━━━━━━━━\u001b[0m \u001b[32m4.8/4.8 MB\u001b[0m \u001b[31m41.7 MB/s\u001b[0m eta \u001b[36m0:00:00\u001b[0m\n",
            "\u001b[?25hDownloading dill-0.3.9-py3-none-any.whl (119 kB)\n",
            "\u001b[2K   \u001b[90m━━━━━━━━━━━━━━━━━━━━━━━━━━━━━━━━━━━━━━━━\u001b[0m \u001b[32m119.4/119.4 kB\u001b[0m \u001b[31m9.1 MB/s\u001b[0m eta \u001b[36m0:00:00\u001b[0m\n",
            "\u001b[?25hDownloading rustworkx-0.15.1-cp38-abi3-manylinux_2_17_x86_64.manylinux2014_x86_64.whl (2.0 MB)\n",
            "\u001b[2K   \u001b[90m━━━━━━━━━━━━━━━━━━━━━━━━━━━━━━━━━━━━━━━━\u001b[0m \u001b[32m2.0/2.0 MB\u001b[0m \u001b[31m64.0 MB/s\u001b[0m eta \u001b[36m0:00:00\u001b[0m\n",
            "\u001b[?25hDownloading stevedore-5.3.0-py3-none-any.whl (49 kB)\n",
            "\u001b[2K   \u001b[90m━━━━━━━━━━━━━━━━━━━━━━━━━━━━━━━━━━━━━━━━\u001b[0m \u001b[32m49.7/49.7 kB\u001b[0m \u001b[31m3.7 MB/s\u001b[0m eta \u001b[36m0:00:00\u001b[0m\n",
            "\u001b[?25hDownloading symengine-0.13.0-cp310-cp310-manylinux_2_17_x86_64.manylinux2014_x86_64.whl (49.7 MB)\n",
            "\u001b[2K   \u001b[90m━━━━━━━━━━━━━━━━━━━━━━━━━━━━━━━━━━━━━━━━\u001b[0m \u001b[32m49.7/49.7 MB\u001b[0m \u001b[31m18.2 MB/s\u001b[0m eta \u001b[36m0:00:00\u001b[0m\n",
            "\u001b[?25hDownloading pbr-6.1.0-py2.py3-none-any.whl (108 kB)\n",
            "\u001b[2K   \u001b[90m━━━━━━━━━━━━━━━━━━━━━━━━━━━━━━━━━━━━━━━━\u001b[0m \u001b[32m108.5/108.5 kB\u001b[0m \u001b[31m7.0 MB/s\u001b[0m eta \u001b[36m0:00:00\u001b[0m\n",
            "\u001b[?25hInstalling collected packages: symengine, rustworkx, pbr, dill, stevedore, qiskit\n",
            "Successfully installed dill-0.3.9 pbr-6.1.0 qiskit-1.2.4 rustworkx-0.15.1 stevedore-5.3.0 symengine-0.13.0\n"
          ]
        }
      ],
      "source": [
        "!pip install qiskit\n"
      ]
    },
    {
      "cell_type": "code",
      "source": [
        "!pip install qiskit qiskit-aer\n"
      ],
      "metadata": {
        "colab": {
          "base_uri": "https://localhost:8080/"
        },
        "id": "p-A9lgfDF_yB",
        "outputId": "a09d208e-e97a-4d5f-e6ca-c4ee249800f7"
      },
      "execution_count": null,
      "outputs": [
        {
          "output_type": "stream",
          "name": "stdout",
          "text": [
            "Requirement already satisfied: qiskit in /usr/local/lib/python3.10/dist-packages (1.2.4)\n",
            "Collecting qiskit-aer\n",
            "  Downloading qiskit_aer-0.15.1-cp310-cp310-manylinux_2_17_x86_64.manylinux2014_x86_64.whl.metadata (8.0 kB)\n",
            "Requirement already satisfied: rustworkx>=0.15.0 in /usr/local/lib/python3.10/dist-packages (from qiskit) (0.15.1)\n",
            "Requirement already satisfied: numpy<3,>=1.17 in /usr/local/lib/python3.10/dist-packages (from qiskit) (1.26.4)\n",
            "Requirement already satisfied: scipy>=1.5 in /usr/local/lib/python3.10/dist-packages (from qiskit) (1.13.1)\n",
            "Requirement already satisfied: sympy>=1.3 in /usr/local/lib/python3.10/dist-packages (from qiskit) (1.13.1)\n",
            "Requirement already satisfied: dill>=0.3 in /usr/local/lib/python3.10/dist-packages (from qiskit) (0.3.9)\n",
            "Requirement already satisfied: python-dateutil>=2.8.0 in /usr/local/lib/python3.10/dist-packages (from qiskit) (2.8.2)\n",
            "Requirement already satisfied: stevedore>=3.0.0 in /usr/local/lib/python3.10/dist-packages (from qiskit) (5.3.0)\n",
            "Requirement already satisfied: typing-extensions in /usr/local/lib/python3.10/dist-packages (from qiskit) (4.12.2)\n",
            "Requirement already satisfied: symengine<0.14,>=0.11 in /usr/local/lib/python3.10/dist-packages (from qiskit) (0.13.0)\n",
            "Requirement already satisfied: psutil>=5 in /usr/local/lib/python3.10/dist-packages (from qiskit-aer) (5.9.5)\n",
            "Requirement already satisfied: six>=1.5 in /usr/local/lib/python3.10/dist-packages (from python-dateutil>=2.8.0->qiskit) (1.16.0)\n",
            "Requirement already satisfied: pbr>=2.0.0 in /usr/local/lib/python3.10/dist-packages (from stevedore>=3.0.0->qiskit) (6.1.0)\n",
            "Requirement already satisfied: mpmath<1.4,>=1.1.0 in /usr/local/lib/python3.10/dist-packages (from sympy>=1.3->qiskit) (1.3.0)\n",
            "Downloading qiskit_aer-0.15.1-cp310-cp310-manylinux_2_17_x86_64.manylinux2014_x86_64.whl (12.3 MB)\n",
            "\u001b[2K   \u001b[90m━━━━━━━━━━━━━━━━━━━━━━━━━━━━━━━━━━━━━━━━\u001b[0m \u001b[32m12.3/12.3 MB\u001b[0m \u001b[31m65.9 MB/s\u001b[0m eta \u001b[36m0:00:00\u001b[0m\n",
            "\u001b[?25hInstalling collected packages: qiskit-aer\n",
            "Successfully installed qiskit-aer-0.15.1\n"
          ]
        }
      ]
    },
    {
      "cell_type": "code",
      "source": [
        "# Import necessary modules\n",
        "from qiskit import QuantumCircuit\n",
        "from qiskit.primitives import Sampler\n",
        "import numpy as np\n",
        "\n",
        "# Initialize variables\n",
        "key_length = 100  # Length of the key to be generated\n",
        "alice_key = []  # Alice's key\n",
        "bob_key = []  # Bob's key\n",
        "alice_bases = []  # Alice's random bases\n",
        "bob_bases = []  # Bob's random bases\n",
        "\n",
        "# Step 1: Alice's Qubit Preparation and Sending\n",
        "# Function to generate Alice's random key bits and bases\n",
        "def alice_prepare_qubits():\n",
        "    for _ in range(key_length):\n",
        "        # Generate random bits and bases for Alice\n",
        "        alice_bit = np.random.randint(2)  # 0 or 1\n",
        "        alice_base = np.random.choice(['X', 'Z'])  # X or Z basis\n",
        "        alice_key.append(alice_bit)\n",
        "        alice_bases.append(alice_base)\n",
        "    return alice_key, alice_bases\n",
        "\n",
        "# Step 2: Simulate Quantum Transmission and Measurement (Alice -> Bob)\n",
        "def bob_measure_qubits():\n",
        "    sampler = Sampler()  # Initialize the Sampler primitive\n",
        "\n",
        "    for i in range(key_length):\n",
        "        # Bob chooses a random basis\n",
        "        bob_base = np.random.choice(['X', 'Z'])\n",
        "        bob_bases.append(bob_base)\n",
        "\n",
        "        # Prepare a quantum circuit to send qubits\n",
        "        qc = QuantumCircuit(1, 1)\n",
        "        if alice_key[i] == 1:\n",
        "            qc.x(0)  # Apply X gate if bit is 1\n",
        "        if alice_bases[i] == 'X':\n",
        "            qc.h(0)  # Apply H gate for X-basis preparation\n",
        "\n",
        "        # Apply measurement based on Bob's choice of basis\n",
        "        if bob_bases[i] == 'X':\n",
        "            qc.h(0)\n",
        "        qc.measure(0, 0)\n",
        "\n",
        "        # Run the circuit using Sampler\n",
        "        result = sampler.run(circuits=[qc]).result()\n",
        "        counts = result.quasi_dists[0]\n",
        "        measured_bit = 0 if counts.get(0, 0) > counts.get(1, 0) else 1\n",
        "        bob_key.append(measured_bit)\n",
        "\n",
        "# Step 3: Basis Comparison (Classical Communication Phase)\n",
        "def basis_comparison():\n",
        "    matching_bases = []\n",
        "    matching_bits = []\n",
        "\n",
        "    for i in range(key_length):\n",
        "        if alice_bases[i] == bob_bases[i]:  # Keep bits with matching bases\n",
        "            matching_bases.append(i)\n",
        "            matching_bits.append(alice_key[i])\n",
        "\n",
        "    # Calculate the raw key after basis matching\n",
        "    raw_key_alice = [alice_key[i] for i in matching_bases]\n",
        "    raw_key_bob = [bob_key[i] for i in matching_bases]\n",
        "\n",
        "    # Compare and output the matched key indices\n",
        "    print(f'Matching bases indices: {matching_bases}')\n",
        "    print(f'Raw Key Alice: {raw_key_alice}')\n",
        "    print(f'Raw Key Bob: {raw_key_bob}')\n",
        "    return raw_key_alice, raw_key_bob\n",
        "\n",
        "# Step 4: Error Detection (Classical Communication Phase)\n",
        "def error_detection(raw_key_alice, raw_key_bob):\n",
        "    # Publicly compare a portion of the key to check for eavesdropping\n",
        "    sample_size = int(len(raw_key_alice) * 0.2)\n",
        "    sample_indices = np.random.choice(len(raw_key_alice), sample_size, replace=False)\n",
        "\n",
        "    discrepancies = sum(1 for i in sample_indices if raw_key_alice[i] != raw_key_bob[i])\n",
        "    print(f'Number of discrepancies: {discrepancies}')\n",
        "\n",
        "    if discrepancies > 0:\n",
        "        print(\"Eavesdropping detected! Key discarded.\")\n",
        "    else:\n",
        "        print(\"No discrepancies detected. Key secure.\")\n",
        "\n",
        "# Run each step of the protocol\n",
        "alice_key, alice_bases = alice_prepare_qubits()\n",
        "bob_measure_qubits()\n",
        "raw_key_alice, raw_key_bob = basis_comparison()\n",
        "error_detection(raw_key_alice, raw_key_bob)\n"
      ],
      "metadata": {
        "colab": {
          "base_uri": "https://localhost:8080/"
        },
        "id": "mzA0PHYhAyTX",
        "outputId": "fe6fb508-2a4d-44a6-efaf-aa7fd65a0bef"
      },
      "execution_count": null,
      "outputs": [
        {
          "output_type": "stream",
          "name": "stdout",
          "text": [
            "Matching bases indices: [0, 5, 7, 9, 10, 11, 14, 15, 16, 17, 21, 23, 25, 26, 27, 28, 29, 31, 32, 33, 34, 36, 38, 40, 41, 44, 49, 51, 52, 53, 57, 58, 66, 70, 72, 73, 76, 78, 80, 81, 82, 83, 84, 85, 87, 89, 90, 93, 94, 95, 98]\n",
            "Raw Key Alice: [1, 1, 1, 1, 0, 1, 1, 0, 1, 1, 0, 0, 1, 0, 0, 1, 0, 0, 0, 0, 0, 1, 0, 0, 0, 1, 0, 1, 1, 1, 0, 0, 0, 1, 0, 0, 0, 1, 0, 0, 0, 1, 0, 0, 1, 0, 1, 1, 0, 0, 1]\n",
            "Raw Key Bob: [1, 1, 1, 1, 0, 1, 1, 0, 1, 1, 0, 0, 1, 0, 0, 1, 0, 0, 0, 0, 0, 1, 0, 0, 0, 1, 0, 1, 1, 1, 0, 0, 0, 1, 0, 0, 0, 1, 0, 0, 0, 1, 0, 0, 1, 0, 1, 1, 0, 0, 1]\n",
            "Number of discrepancies: 0\n",
            "No discrepancies detected. Key secure.\n"
          ]
        },
        {
          "output_type": "stream",
          "name": "stderr",
          "text": [
            "<ipython-input-11-2c3b40e344d3>:26: DeprecationWarning: The class ``qiskit.primitives.sampler.Sampler`` is deprecated as of qiskit 1.2. It will be removed no earlier than 3 months after the release date. All implementations of the `BaseSamplerV1` interface have been deprecated in favor of their V2 counterparts. The V2 alternative for the `Sampler` class is `StatevectorSampler`.\n",
            "  sampler = Sampler()  # Initialize the Sampler primitive\n"
          ]
        }
      ]
    }
  ]
}